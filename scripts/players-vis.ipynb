{
 "cells": [
  {
   "cell_type": "code",
   "execution_count": null,
   "metadata": {
    "collapsed": true
   },
   "outputs": [],
   "source": [
    "import pandas as pd"
   ]
  },
  {
   "cell_type": "code",
   "execution_count": 10,
   "metadata": {
    "pycharm": {
     "name": "#%%\n"
    }
   },
   "outputs": [
    {
     "name": "stdout",
     "output_type": "stream",
     "text": [
      "    id  chance_of_playing_next_round  chance_of_playing_this_round    code  \\\n",
      "0  390                         100.0                         100.0   85971   \n",
      "1  388                           NaN                           NaN   78830   \n",
      "2  254                           NaN                           NaN  118748   \n",
      "3  141                         100.0                         100.0   82403   \n",
      "4  202                           NaN                           NaN  106617   \n",
      "\n",
      "   cost_change_event  cost_change_event_fall  cost_change_start  \\\n",
      "0                  0                       0                  5   \n",
      "1                  0                       0                  4   \n",
      "2                  0                       0                  4   \n",
      "3                  0                       0                  3   \n",
      "4                  0                       0                  4   \n",
      "\n",
      "   cost_change_start_fall  dreamteam_count  element_type  ...  threat_rank  \\\n",
      "0                      -5                4             3  ...            9   \n",
      "1                      -4                3             4  ...            2   \n",
      "2                      -4                1             3  ...            1   \n",
      "3                      -3                2             3  ...            6   \n",
      "4                      -4                1             4  ...            7   \n",
      "\n",
      "   threat_rank_type  ict_index_rank ict_index_rank_type  \\\n",
      "0                 4               3                   2   \n",
      "1                 1               2                   1   \n",
      "2                 1               1                   1   \n",
      "3                 3               5                   4   \n",
      "4                 4              10                   3   \n",
      "\n",
      "   corners_and_indirect_freekicks_order  corners_and_indirect_freekicks_text  \\\n",
      "0                                   1.0                                  NaN   \n",
      "1                                   NaN                                  NaN   \n",
      "2                                   6.0                                  NaN   \n",
      "3                                   NaN                                  NaN   \n",
      "4                                   NaN                                  NaN   \n",
      "\n",
      "  direct_freekicks_order direct_freekicks_text  penalties_order penalties_text  \n",
      "0                    6.0                   NaN              2.0            NaN  \n",
      "1                    4.0                   NaN              1.0            NaN  \n",
      "2                    2.0                   NaN              2.0            NaN  \n",
      "3                    NaN                   NaN              3.0            NaN  \n",
      "4                    NaN                   NaN              2.0            NaN  \n",
      "\n",
      "[5 rows x 67 columns]\n"
     ]
    }
   ],
   "source": [
    "players = pd.read_csv('../data/players.csv')\n",
    "print(players.head())"
   ]
  },
  {
   "cell_type": "code",
   "execution_count": null,
   "metadata": {},
   "outputs": [],
   "source": []
  }
 ],
 "metadata": {
  "kernelspec": {
   "display_name": "PyCharm (fpl)",
   "language": "python",
   "name": "pycharm-3d7f5a77"
  },
  "language_info": {
   "codemirror_mode": {
    "name": "ipython",
    "version": 3
   },
   "file_extension": ".py",
   "mimetype": "text/x-python",
   "name": "python",
   "nbconvert_exporter": "python",
   "pygments_lexer": "ipython3",
   "version": "3.7.3"
  }
 },
 "nbformat": 4,
 "nbformat_minor": 1
}