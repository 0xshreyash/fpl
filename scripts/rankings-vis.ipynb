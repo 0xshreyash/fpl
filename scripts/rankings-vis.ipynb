{
 "cells": [
  {
   "cell_type": "code",
   "execution_count": 139,
   "metadata": {},
   "outputs": [],
   "source": [
    "import altair as alt\n",
    "import pandas as pd\n",
    "import glob\n",
    "import matplotlib.pyplot as plt\n"
   ]
  },
  {
   "cell_type": "code",
   "execution_count": 140,
   "metadata": {
    "pycharm": {
     "name": "#%%\n"
    }
   },
   "outputs": [
    {
     "name": "stdout",
     "output_type": "stream",
     "text": [
      "['../data/rankings-0021.csv', '../data/rankings-0035.csv', '../data/rankings-0009.csv', '../data/rankings-0008.csv', '../data/rankings-0034.csv', '../data/rankings-0020.csv', '../data/rankings-0036.csv', '../data/rankings-0022.csv', '../data/rankings-0023.csv', '../data/rankings-0037.csv', '../data/rankings-0033.csv', '../data/rankings-0027.csv', '../data/rankings-0026.csv', '../data/rankings-0032.csv', '../data/rankings-0018.csv', '../data/rankings-0024.csv', '../data/rankings-0030.csv', '../data/rankings-0031.csv', '../data/rankings-0025.csv', '../data/rankings-0019.csv', '../data/rankings-0042.csv', '../data/rankings-0043.csv', '../data/rankings-0041.csv', '../data/rankings-0040.csv', '../data/rankings-0044.csv', '../data/rankings-0045.csv', '../data/rankings-0014.csv', '../data/rankings-0028.csv', '../data/rankings-0029.csv', '../data/rankings-0015.csv', '../data/rankings-0001.csv', '../data/rankings-0017.csv', '../data/rankings-0003.csv', '../data/rankings-0002.csv', '../data/rankings-0016.csv', '../data/rankings-0012.csv', '../data/rankings-0006.csv', '../data/rankings-0007.csv', '../data/rankings-0013.csv', '../data/rankings-0039.csv', '../data/rankings-0005.csv', '../data/rankings-0011.csv', '../data/rankings-0010.csv', '../data/rankings-0004.csv', '../data/rankings-0038.csv']\n"
     ]
    }
   ],
   "source": [
    "ranking_files = glob.glob('../data/rankings-*.csv')\n",
    "print(ranking_files)\n"
   ]
  },
  {
   "cell_type": "code",
   "execution_count": 141,
   "metadata": {
    "pycharm": {
     "name": "#%%\n"
    }
   },
   "outputs": [],
   "source": [
    "rankings_df = pd.DataFrame(columns=['Entry ID', 'Overall Rank', 'Total Points'])\n",
    "\n",
    "for ranking_file in ranking_files:\n",
    "    file_df = pd.read_csv(ranking_file)\n",
    "    rankings_df = pd.concat([rankings_df, file_df])\n"
   ]
  },
  {
   "cell_type": "code",
   "execution_count": 142,
   "metadata": {
    "pycharm": {
     "name": "#%%\n"
    }
   },
   "outputs": [
    {
     "data": {
      "text/plain": [
       "False"
      ]
     },
     "execution_count": 142,
     "metadata": {},
     "output_type": "execute_result"
    }
   ],
   "source": [
    "# Check if the right data is there\n",
    "len(rankings_df['Entry ID'].unique()) == len(rankings_df)"
   ]
  },
  {
   "cell_type": "code",
   "execution_count": 142,
   "metadata": {
    "pycharm": {
     "name": "#%%\n"
    }
   },
   "outputs": [],
   "source": []
  },
  {
   "cell_type": "code",
   "execution_count": 143,
   "metadata": {
    "pycharm": {
     "name": "#%%\n"
    }
   },
   "outputs": [],
   "source": [
    "rankings_df = rankings_df[rankings_df['Overall Rank'] > 0]\n",
    "top_50k = rankings_df[rankings_df['Overall Rank'] < 50000]\n",
    "top_500k = rankings_df[rankings_df['Overall Rank'] < 500000]\n"
   ]
  },
  {
   "cell_type": "code",
   "execution_count": 144,
   "metadata": {
    "pycharm": {
     "name": "#%%\n"
    }
   },
   "outputs": [],
   "source": [
    "rankings_df = rankings_df.sort_values(by='Overall Rank')\n",
    "top_500k = top_500k.sort_values(by='Overall Rank')\n",
    "top_50k = top_50k.sort_values(by='Overall Rank')"
   ]
  },
  {
   "cell_type": "code",
   "execution_count": 159,
   "metadata": {
    "pycharm": {
     "name": "#%%\n"
    }
   },
   "outputs": [
    {
     "data": {
      "image/png": "[encoded data removed]",
      "text/plain": [
       "<Figure size 432x288 with 1 Axes>"
      ]
     },
     "metadata": {
      "needs_background": "light"
     },
     "output_type": "display_data"
    }
   ],
   "source": [
    "plt.plot(\n",
    "    top_50k['Overall Rank'],\n",
    "    top_50k['Total Points'],\n",
    ")\n",
    "plt.xlabel('Overall Rank')\n",
    "plt.ylabel('Total Points')\n",
    "plt.show()"
   ]
  },
  {
   "cell_type": "code",
   "execution_count": 160,
   "metadata": {
    "pycharm": {
     "name": "#%%\n"
    }
   },
   "outputs": [
    {
     "data": {
      "image/png": "[encoded data removed]",
      "text/plain": [
       "<Figure size 432x288 with 1 Axes>"
      ]
     },
     "metadata": {
      "needs_background": "light"
     },
     "output_type": "display_data"
    }
   ],
   "source": [
    "plt.plot(\n",
    "    top_500k['Overall Rank'],\n",
    "    top_500k['Total Points'],\n",
    ")\n",
    "plt.xlabel('Overall Rank')\n",
    "plt.ylabel('Total Points')\n",
    "plt.show()"
   ]
  },
  {
   "cell_type": "code",
   "execution_count": null,
   "outputs": [],
   "source": [],
   "metadata": {
    "collapsed": false,
    "pycharm": {
     "name": "#%%\n"
    }
   }
  },
  {
   "cell_type": "code",
   "execution_count": 146,
   "metadata": {
    "pycharm": {
     "name": "#%%\n"
    }
   },
   "outputs": [],
   "source": []
  },
  {
   "cell_type": "code",
   "execution_count": null,
   "metadata": {},
   "outputs": [],
   "source": []
  }
 ],
 "metadata": {
  "kernelspec": {
   "display_name": "PyCharm (fpl)",
   "language": "python",
   "name": "pycharm-3d7f5a77"
  },
  "language_info": {
   "codemirror_mode": {
    "name": "ipython",
    "version": 3
   },
   "file_extension": ".py",
   "mimetype": "text/x-python",
   "name": "python",
   "nbconvert_exporter": "python",
   "pygments_lexer": "ipython3",
   "version": "3.7.3"
  }
 },
 "nbformat": 4,
 "nbformat_minor": 1
}